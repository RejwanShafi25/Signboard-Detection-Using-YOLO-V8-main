{
 "cells": [
  {
   "cell_type": "code",
   "execution_count": 3,
   "metadata": {},
   "outputs": [
    {
     "name": "stdout",
     "output_type": "stream",
     "text": [
      "Files copied successfully!\n"
     ]
    }
   ],
   "source": [
    "import os\n",
    "import shutil\n",
    "import csv\n",
    "\n",
    "# Define the paths\n",
    "csv_file = 'D:/Bracu/9th Semester/CSE428/CSE428/Project/Milestone 2/section2-group1/val.csv'\n",
    "global_images_folder = 'D:/Bracu/9th Semester/CSE428/CSE428/Project/Milestone 2/global_images'\n",
    "global_annotations_folder = 'D:/Bracu/9th Semester/CSE428/CSE428/Project/Milestone 2/global_annotations'\n",
    "target_folder = 'D:/Bracu/9th Semester/CSE428/CSE428/Project/Milestone 2/section2-group1/val'\n",
    "\n",
    "# Create the target folder if it doesn't exist\n",
    "os.makedirs(target_folder, exist_ok=True)\n",
    "\n",
    "# Open the CSV file\n",
    "with open(csv_file, 'r') as file:\n",
    "    reader = csv.reader(file)\n",
    "    # Skip the header row\n",
    "    next(reader)\n",
    "\n",
    "    # Iterate over the rows\n",
    "    for row in reader:\n",
    "        image_filename = row[0]\n",
    "        annotation_filename = row[1]\n",
    "\n",
    "        # Copy the image file\n",
    "        image_src = os.path.join(global_images_folder, image_filename)\n",
    "        image_dest = os.path.join(target_folder, image_filename)\n",
    "        shutil.copy2(image_src, image_dest)\n",
    "\n",
    "        # Copy the annotation file\n",
    "        annotation_src = os.path.join(global_annotations_folder, annotation_filename)\n",
    "        annotation_dest = os.path.join(target_folder, annotation_filename)\n",
    "        shutil.copy2(annotation_src, annotation_dest)\n",
    "\n",
    "print(\"Files copied successfully!\")"
   ]
  },
  {
   "cell_type": "code",
   "execution_count": null,
   "metadata": {},
   "outputs": [],
   "source": []
  }
 ],
 "metadata": {
  "kernelspec": {
   "display_name": "Python 3",
   "language": "python",
   "name": "python3"
  },
  "language_info": {
   "codemirror_mode": {
    "name": "ipython",
    "version": 3
   },
   "file_extension": ".py",
   "mimetype": "text/x-python",
   "name": "python",
   "nbconvert_exporter": "python",
   "pygments_lexer": "ipython3",
   "version": "3.11.9"
  }
 },
 "nbformat": 4,
 "nbformat_minor": 2
}
